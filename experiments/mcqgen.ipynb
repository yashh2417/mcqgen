{
 "cells": [
  {
   "cell_type": "code",
   "execution_count": 1,
   "id": "0b54a254-4ad8-40fe-9688-c7111dc99718",
   "metadata": {},
   "outputs": [],
   "source": [
    "import os"
   ]
  },
  {
   "cell_type": "code",
   "execution_count": 12,
   "id": "594c225f",
   "metadata": {},
   "outputs": [
    {
     "data": {
      "text/plain": [
       "True"
      ]
     },
     "execution_count": 12,
     "metadata": {},
     "output_type": "execute_result"
    }
   ],
   "source": [
    "from dotenv import load_dotenv\n",
    "\n",
    "load_dotenv()"
   ]
  },
  {
   "cell_type": "code",
   "execution_count": 13,
   "id": "307e8db1",
   "metadata": {},
   "outputs": [],
   "source": [
    "LANGCHAIN_API_KEY = os.getenv(\"LANGCHAIN_API_KEY\")"
   ]
  },
  {
   "cell_type": "code",
   "execution_count": 14,
   "id": "77d0c871-a504-4b23-a462-b3400b6863e7",
   "metadata": {},
   "outputs": [],
   "source": [
    "os.environ[\"LANGCHAIN_TRACING_V2\"] = \"true\"\n",
    "os.environ[\"LANGCHAIN_ENDPOINT\"] = \"https://api.smith.langchain.com\"\n",
    "# os.environ[\"LANGCHAIN_API_KEY\"] = LANGCHAIN_API_KEY\n",
    "os.environ[\"LANGCHAIN_PROJECT\"] = \"RAG\""
   ]
  },
  {
   "cell_type": "code",
   "execution_count": 15,
   "id": "b1cdad3c",
   "metadata": {},
   "outputs": [],
   "source": [
    "GOOGLE_API_KEY = os.getenv(\"GOOGLE_API_KEY\")"
   ]
  },
  {
   "cell_type": "code",
   "execution_count": 16,
   "id": "d62e8db2-a565-4c0e-b7a4-a34bd8db52d1",
   "metadata": {},
   "outputs": [],
   "source": [
    "# os.environ[\"GOOGLE_API_KEY\"] = GOOGLE_API_KEY"
   ]
  },
  {
   "cell_type": "code",
   "execution_count": 17,
   "id": "ab5edd9f-f0aa-4577-83f9-65a02585a266",
   "metadata": {},
   "outputs": [],
   "source": [
    "import warnings\n",
    "warnings.filterwarnings('ignore')"
   ]
  },
  {
   "cell_type": "code",
   "execution_count": 18,
   "id": "a32e6362-fb21-4d53-8542-aa88a0654195",
   "metadata": {},
   "outputs": [],
   "source": [
    "from langchain_google_genai import GoogleGenerativeAIEmbeddings\n",
    "\n",
    "gemini_embeddings = GoogleGenerativeAIEmbeddings(\n",
    "    model=\"models/embedding-001\",\n",
    "    google_api_key=GOOGLE_API_KEY\n",
    ")\n"
   ]
  },
  {
   "cell_type": "code",
   "execution_count": 19,
   "id": "1b869fad-2085-4782-8e39-3d5b22ced3be",
   "metadata": {},
   "outputs": [],
   "source": [
    "from langchain_google_genai import ChatGoogleGenerativeAI\n",
    "model = ChatGoogleGenerativeAI(model = \"gemini-1.5-flash\", convert_system_message_to_human=True)"
   ]
  },
  {
   "cell_type": "code",
   "execution_count": 20,
   "id": "cff8552e-7838-43e7-8b7c-e1e39414e00b",
   "metadata": {},
   "outputs": [
    {
     "name": "stdout",
     "output_type": "stream",
     "text": [
      "Hi there! How can I help you today?\n"
     ]
    }
   ],
   "source": [
    "print(model.invoke(\"hi\").content)"
   ]
  },
  {
   "cell_type": "code",
   "execution_count": 21,
   "id": "2c065e11-9571-45cf-8b91-918388215a27",
   "metadata": {},
   "outputs": [],
   "source": [
    "from langchain.chains import create_retrieval_chain"
   ]
  },
  {
   "cell_type": "code",
   "execution_count": 22,
   "id": "fcda9b96-854e-43d2-a744-90de81375854",
   "metadata": {},
   "outputs": [],
   "source": [
    "from langchain.chains.combine_documents import create_stuff_documents_chain"
   ]
  },
  {
   "cell_type": "code",
   "execution_count": 24,
   "id": "0b1ef0dc-8908-40ad-aef1-eba4f315fbbf",
   "metadata": {},
   "outputs": [],
   "source": [
    "from langchain_chroma import Chroma"
   ]
  },
  {
   "cell_type": "code",
   "execution_count": 25,
   "id": "492da945-1052-4b12-9d60-43568513554d",
   "metadata": {},
   "outputs": [],
   "source": [
    "from langchain_core.prompts import ChatPromptTemplate"
   ]
  },
  {
   "cell_type": "code",
   "execution_count": 26,
   "id": "3b9417df-97c2-408f-80d7-75172bb64d7b",
   "metadata": {},
   "outputs": [],
   "source": [
    "from langchain_text_splitters import RecursiveCharacterTextSplitter"
   ]
  },
  {
   "cell_type": "code",
   "execution_count": 27,
   "id": "8727b018-b58e-4f43-8421-739683d18a2c",
   "metadata": {},
   "outputs": [],
   "source": [
    "from langchain_core.prompts import MessagesPlaceholder"
   ]
  },
  {
   "cell_type": "code",
   "execution_count": 28,
   "id": "c1e40c9e-6591-48f8-b38a-0145daed7c00",
   "metadata": {},
   "outputs": [],
   "source": [
    "from PyPDF2 import PdfReader"
   ]
  },
  {
   "cell_type": "code",
   "execution_count": 32,
   "id": "e6e3fdc7-797a-4535-8f65-66b2bfaef8f5",
   "metadata": {},
   "outputs": [],
   "source": [
    "from PyPDF2 import PdfReader\n",
    "from langchain.text_splitter import RecursiveCharacterTextSplitter\n",
    "from langchain.schema import Document\n",
    "import os\n",
    "\n",
    "# Load multiple PDFs\n",
    "def load_pdfs(folder):\n",
    "    texts = []\n",
    "    for file in os.listdir(folder):\n",
    "        if file.endswith(\".pdf\"):\n",
    "            reader = PdfReader(os.path.join(folder, file))\n",
    "            full_text = \"\"\n",
    "            for page in reader.pages:\n",
    "                if page_text := page.extract_text():\n",
    "                    full_text += page_text\n",
    "            texts.append(full_text)\n",
    "    return texts\n",
    "\n",
    "# Convert to Document objects\n",
    "def create_documents_from_texts(texts):\n",
    "    return [\n",
    "        Document(page_content=text, metadata={\"source\": f\"doc_{i}\"})\n",
    "        for i, text in enumerate(texts)\n",
    "    ]\n",
    "\n",
    "# Chunking\n",
    "folder_path = \"../pdf_docs\"\n",
    "texts = load_pdfs(folder_path)\n",
    "docs = create_documents_from_texts(texts)\n",
    "\n",
    "text_splitter = RecursiveCharacterTextSplitter(chunk_size=1000, chunk_overlap=200)\n",
    "splits = text_splitter.split_documents(docs)\n"
   ]
  },
  {
   "cell_type": "code",
   "execution_count": 56,
   "id": "1fa1e59e-919c-41d0-8339-1463d6b7860e",
   "metadata": {},
   "outputs": [
    {
     "data": {
      "text/plain": [
       "[Document(metadata={'source': 'doc_0'}, page_content='2025 Indian Premier League\\nDates 22 March – 3 June 2025\\nAdministrator(s)Board of Control for\\nCricket in India\\nCricket format Twenty20\\nTournament\\nformat(s)Group stage and playoffs\\nChampions Royal Challengers\\nBengaluru (1st title)\\nRunners-up Punjab Kings\\nParticipants 10\\nMatches 74\\nMost valuable\\nplayerSuryakumar Yadav\\n(Mumbai Indians)\\nMost runs Sai Sudharsan (Gujarat\\nTitans) (759)\\nMost wickets Prasidh Krishna (Gujarat\\nTitans) (25)\\nOfﬁcial website iplt20.com (http://iplt20.co\\nm)\\n2025 Indian Premier League\\nThe 2025 Indian Premier League , also known as IPL 18 and\\nbranded as TATA IPL 2025 , was the 18th edition of the Indian Premier\\nLeague . The tournament featured 10 teams  competing in 74 matches. It\\nbegan on 22 March and was held across 13 venues before being\\nsuspended on 9 May due to the 2025 India and Pakistan crisis . The\\nmatches resumed from 17 May across six venues, and the final  was\\nrescheduled from 25 May to 3 June.')]"
      ]
     },
     "execution_count": 56,
     "metadata": {},
     "output_type": "execute_result"
    }
   ],
   "source": [
    "splits[:1]"
   ]
  },
  {
   "cell_type": "code",
   "execution_count": 34,
   "id": "99c1b959-26e0-4a31-bedf-3631bd11808f",
   "metadata": {},
   "outputs": [],
   "source": [
    "vectorstore = Chroma.from_documents(\n",
    "    documents=splits,\n",
    "    embedding=gemini_embeddings,\n",
    ")"
   ]
  },
  {
   "cell_type": "code",
   "execution_count": 35,
   "id": "4337807b-03fc-48a2-ada0-1ac72bbd5811",
   "metadata": {},
   "outputs": [],
   "source": [
    "retriever = vectorstore.as_retriever()"
   ]
  },
  {
   "cell_type": "code",
   "execution_count": 36,
   "id": "131cce9b-1db8-4595-b9bf-6c297e452580",
   "metadata": {},
   "outputs": [
    {
     "data": {
      "text/plain": [
       "VectorStoreRetriever(tags=['Chroma', 'GoogleGenerativeAIEmbeddings'], vectorstore=<langchain_chroma.vectorstores.Chroma object at 0x1241783d0>, search_kwargs={})"
      ]
     },
     "execution_count": 36,
     "metadata": {},
     "output_type": "execute_result"
    }
   ],
   "source": [
    "retriever"
   ]
  },
  {
   "cell_type": "code",
   "execution_count": 37,
   "id": "1b1b9d33-d6a2-4fbc-8e94-bc81bf10e208",
   "metadata": {},
   "outputs": [],
   "source": [
    "system_prompt = (\n",
    "    \"You are an assistant for question answering tasks. \"\n",
    "    \"Use the following pieces of retrieved context to answer the question \"\n",
    "    \"If you don't know the answer, say that you don't know.\"\n",
    "    \"Use three sentences maximum and keep the answer concise.\"\n",
    "    \"\\n\\n\"\n",
    "    \"{context}\"\n",
    ")"
   ]
  },
  {
   "cell_type": "code",
   "execution_count": 38,
   "id": "52993b9b-aa72-46c8-a531-e19e3764bcc0",
   "metadata": {},
   "outputs": [],
   "source": [
    "chat_prompt = ChatPromptTemplate.from_messages(\n",
    "    [\n",
    "        (\"system\", system_prompt),\n",
    "        (\"human\", \"{input}\"),\n",
    "    ]\n",
    ")"
   ]
  },
  {
   "cell_type": "code",
   "execution_count": 39,
   "id": "ca875fff-5efc-47eb-9043-c706efdcc193",
   "metadata": {},
   "outputs": [],
   "source": [
    "question_answering_chain = create_stuff_documents_chain(model, chat_prompt)"
   ]
  },
  {
   "cell_type": "code",
   "execution_count": 40,
   "id": "e2f43538-2564-4cae-92ee-449398db11b3",
   "metadata": {},
   "outputs": [],
   "source": [
    "rag_chain = create_retrieval_chain(retriever, question_answering_chain)"
   ]
  },
  {
   "cell_type": "code",
   "execution_count": 45,
   "id": "6482b070-6740-4bb3-beee-7c7728bcf307",
   "metadata": {},
   "outputs": [
    {
     "data": {
      "text/plain": [
       "'Virat Kohli scored 43 runs in the final match of IPL 2025.  Royal Challengers Bangalore won the match by 6 runs.  The match was played on June 3, 2025.'"
      ]
     },
     "execution_count": 45,
     "metadata": {},
     "output_type": "execute_result"
    }
   ],
   "source": [
    "rag_chain.invoke({\"input\": \"how much runs did virat scored in final match of ipl 2025?\"})[\"answer\"]"
   ]
  },
  {
   "cell_type": "code",
   "execution_count": 46,
   "id": "b1d520ea-76dc-49b7-9e8b-2544bb2756c2",
   "metadata": {},
   "outputs": [
    {
     "data": {
      "text/plain": [
       "\"The Big Bang theory is a cosmological model for the universe's evolution.  It's supported by Big Bang nucleosynthesis and the discovery of the cosmic microwave background radiation.  The theory rests on Einstein's general relativity and the cosmological principle.\""
      ]
     },
     "execution_count": 46,
     "metadata": {},
     "output_type": "execute_result"
    }
   ],
   "source": [
    "rag_chain.invoke({\"input\": \"what is big bang theory?\"})[\"answer\"]"
   ]
  },
  {
   "cell_type": "code",
   "execution_count": 47,
   "id": "323212f3-daa6-44f2-a2c9-71d3421dacd1",
   "metadata": {},
   "outputs": [
    {
     "name": "stdout",
     "output_type": "stream",
     "text": [
      "Here are four general knowledge questions with their answers, based on the provided text:\n",
      "\n",
      "1. **Question:** What is the name of the instrument used to measure the distance traveled in vehicles?  **Answer:** Odometer.\n",
      "2. **Question:** Who wrote the book \"Dreams from My Father: A Story of Race and Inheritance\"? **Answer:** Former US President Barack Obama.\n",
      "3. **Question:** When was penicillin discovered? **Answer:** In the year 1928.\n",
      "4. **Question:** Which city is known as the \"Windy City\"? **Answer:** Chicago.\n"
     ]
    }
   ],
   "source": [
    "print(rag_chain.invoke({\"input\": \"provide 4 questions of general knowledge with their answers\"})[\"answer\"])"
   ]
  },
  {
   "cell_type": "code",
   "execution_count": 48,
   "id": "7b1d42be-76df-4d42-a86c-ec8b11c8cff3",
   "metadata": {},
   "outputs": [],
   "source": [
    "mcq_prompt = \"\"\"\n",
    "You are an expert question generator.\n",
    "\n",
    "Given the following context, generate {num_questions} multiple-choice questions (MCQs). Follow these rules:\n",
    "- Each question should be directly based on the context.\n",
    "- Provide 4 options labeled A to D.\n",
    "- Clearly state the correct answer with \"Answer: <option letter>\".\n",
    "- Keep questions clear, factual, and non-repetitive.\n",
    "\n",
    "### Context:\n",
    "{context}\n",
    "\n",
    "### Output format:\n",
    "1. <Question text>\n",
    "A. <Option A>\n",
    "B. <Option B>\n",
    "C. <Option C>\n",
    "D. <Option D>\n",
    "Answer: <Correct Option>\n",
    "\n",
    "Generate the questions now.\n",
    "\"\"\"\n"
   ]
  },
  {
   "cell_type": "code",
   "execution_count": 49,
   "id": "1d61970c-1a65-42cd-b2a1-53c06bb2acca",
   "metadata": {},
   "outputs": [
    {
     "name": "stderr",
     "output_type": "stream",
     "text": [
      "/var/folders/v3/hj2d2g150gld7k2cm6q9d9gh0000gn/T/ipykernel_2270/2344766643.py:9: LangChainDeprecationWarning: The class `LLMChain` was deprecated in LangChain 0.1.17 and will be removed in 1.0. Use :meth:`~RunnableSequence, e.g., `prompt | llm`` instead.\n",
      "  llm_chain = LLMChain(prompt=prompt, llm=model)\n"
     ]
    }
   ],
   "source": [
    "from langchain.prompts import PromptTemplate\n",
    "from langchain.chains import LLMChain\n",
    "\n",
    "prompt = PromptTemplate(\n",
    "    input_variables=[\"context\", \"num_questions\"],\n",
    "    template=mcq_prompt\n",
    ")\n",
    "\n",
    "llm_chain = LLMChain(prompt=prompt, llm=model)"
   ]
  },
  {
   "cell_type": "code",
   "execution_count": 50,
   "id": "c79b02b8-9d9e-4dec-9cb1-4861c3c070e5",
   "metadata": {},
   "outputs": [],
   "source": [
    "context_text = \"about ipl 2025\"\n",
    "\n",
    "response = llm_chain.invoke({\n",
    "    \"context\": context_text,\n",
    "    \"num_questions\": 5,\n",
    "})"
   ]
  },
  {
   "cell_type": "code",
   "execution_count": 51,
   "id": "ec0e2b54-e967-45cb-810c-8845f42896f7",
   "metadata": {},
   "outputs": [
    {
     "name": "stdout",
     "output_type": "stream",
     "text": [
      "Since the provided context \"about ipl 2025\" is extremely vague,  I will have to make assumptions to create meaningful multiple-choice questions.  These questions will focus on plausible aspects of an IPL 2025 season, acknowledging the lack of concrete information.\n",
      "\n",
      "1. Which of the following is a MOST likely change to the IPL 2025 format compared to previous seasons?\n",
      "A. A reduction in the number of teams.\n",
      "B. The introduction of a new playoff system.\n",
      "C. A significant shortening of the regular season.\n",
      "D. The elimination of the auction process for player selection.\n",
      "Answer: B\n",
      "\n",
      "2.  Speculation suggests a potential increase in the IPL 2025 media rights revenue. What is the MOST likely driver for this increase?\n",
      "A. A decrease in the overall viewership.\n",
      "B. Reduced broadcasting costs.\n",
      "C. Increased global interest and viewership.\n",
      "D. A decline in sponsorship deals.\n",
      "Answer: C\n",
      "\n",
      "3.  Considering the usual player transfer dynamics, which of the following scenarios is MOST likely for IPL 2025?\n",
      "A. All teams retaining the exact same squads as 2024.\n",
      "B. Significant player movement due to the auction and trades.\n",
      "C. A complete ban on player transfers between teams.\n",
      "D. A reduction in the number of overseas players allowed per team.\n",
      "Answer: B\n",
      "\n",
      "4.  Which of these is a potential challenge the IPL 2025 organizers might face?\n",
      "A. An abundance of readily available sponsorship opportunities.\n",
      "B. An oversupply of high-quality international players.\n",
      "C. Maintaining consistent viewership across various time zones.\n",
      "D. A lack of interest from potential investors.\n",
      "Answer: C\n",
      "\n",
      "5.  If a new team were to be added to the IPL in 2025, which of the following factors would be MOST influential in selecting its location?\n",
      "A. Proximity to existing teams.\n",
      "B. The team's historical performance in previous seasons.\n",
      "C. The potential for a large and engaged fan base.\n",
      "D. The team's owner's personal preference.\n",
      "Answer: C\n",
      "\n",
      "\n",
      "**Important Note:** These answers are based on reasonable assumptions about the IPL.  Actual details for IPL 2025 are not yet publicly available, so these questions and answers are speculative but plausible.\n"
     ]
    }
   ],
   "source": [
    "print(response[\"text\"])"
   ]
  },
  {
   "cell_type": "code",
   "execution_count": 52,
   "id": "2e4473b5-a5b2-4dcb-9901-fff781f28bc5",
   "metadata": {},
   "outputs": [],
   "source": [
    "context_text = \"about black hole\"\n",
    "\n",
    "response = llm_chain.invoke({\n",
    "    \"context\": context_text,\n",
    "    \"num_questions\": 3,\n",
    "})"
   ]
  },
  {
   "cell_type": "code",
   "execution_count": 53,
   "id": "9c8d62c0-d2a0-48d6-9e69-0f129782cc4b",
   "metadata": {},
   "outputs": [
    {
     "name": "stdout",
     "output_type": "stream",
     "text": [
      "1. What is a black hole?\n",
      "A. A type of star that is extremely hot and bright.\n",
      "B. A region of spacetime with gravity so strong that nothing, not even light, can escape.\n",
      "C. A massive planet with a very dense atmosphere.\n",
      "D. A large cloud of gas and dust in space.\n",
      "Answer: B\n",
      "\n",
      "2.  Which characteristic of a black hole prevents even light from escaping?\n",
      "A. Its extremely low temperature.\n",
      "B. Its intense magnetic field.\n",
      "C. Its incredibly strong gravitational pull.\n",
      "D. Its rapid rotation.\n",
      "Answer: C\n",
      "\n",
      "3. What is the point of no return for a black hole called?\n",
      "A. Event horizon\n",
      "B. Singularity\n",
      "C. Schwarzschild radius\n",
      "D. Accretion disk\n",
      "Answer: A\n"
     ]
    }
   ],
   "source": [
    "print(response[\"text\"])"
   ]
  },
  {
   "cell_type": "code",
   "execution_count": null,
   "id": "4e50faa3-f8aa-4a05-8f74-8aeba8db04ef",
   "metadata": {},
   "outputs": [],
   "source": []
  }
 ],
 "metadata": {
  "kernelspec": {
   "display_name": "mcqgen",
   "language": "python",
   "name": "python3"
  },
  "language_info": {
   "codemirror_mode": {
    "name": "ipython",
    "version": 3
   },
   "file_extension": ".py",
   "mimetype": "text/x-python",
   "name": "python",
   "nbconvert_exporter": "python",
   "pygments_lexer": "ipython3",
   "version": "3.10.18"
  }
 },
 "nbformat": 4,
 "nbformat_minor": 5
}
