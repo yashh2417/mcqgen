{
 "cells": [
  {
   "cell_type": "code",
   "execution_count": 2,
   "id": "0b54a254-4ad8-40fe-9688-c7111dc99718",
   "metadata": {},
   "outputs": [],
   "source": [
    "import os"
   ]
  },
  {
   "cell_type": "code",
   "execution_count": 3,
   "id": "594c225f",
   "metadata": {},
   "outputs": [
    {
     "data": {
      "text/plain": [
       "True"
      ]
     },
     "execution_count": 3,
     "metadata": {},
     "output_type": "execute_result"
    }
   ],
   "source": [
    "from dotenv import load_dotenv\n",
    "\n",
    "load_dotenv()"
   ]
  },
  {
   "cell_type": "code",
   "execution_count": 4,
   "id": "307e8db1",
   "metadata": {},
   "outputs": [],
   "source": [
    "LANGCHAIN_API_KEY = os.getenv(\"LANGCHAIN_API_KEY\")"
   ]
  },
  {
   "cell_type": "code",
   "execution_count": 5,
   "id": "77d0c871-a504-4b23-a462-b3400b6863e7",
   "metadata": {},
   "outputs": [],
   "source": [
    "os.environ[\"LANGCHAIN_TRACING_V2\"] = \"true\"\n",
    "os.environ[\"LANGCHAIN_ENDPOINT\"] = \"https://api.smith.langchain.com\"\n",
    "# os.environ[\"LANGCHAIN_API_KEY\"] = LANGCHAIN_API_KEY\n",
    "os.environ[\"LANGCHAIN_PROJECT\"] = \"RAG\""
   ]
  },
  {
   "cell_type": "code",
   "execution_count": 6,
   "id": "b1cdad3c",
   "metadata": {},
   "outputs": [],
   "source": [
    "GOOGLE_API_KEY = os.getenv(\"GOOGLE_API_KEY\")"
   ]
  },
  {
   "cell_type": "code",
   "execution_count": 7,
   "id": "d62e8db2-a565-4c0e-b7a4-a34bd8db52d1",
   "metadata": {},
   "outputs": [],
   "source": [
    "# os.environ[\"GOOGLE_API_KEY\"] = GOOGLE_API_KEY"
   ]
  },
  {
   "cell_type": "code",
   "execution_count": 8,
   "id": "ab5edd9f-f0aa-4577-83f9-65a02585a266",
   "metadata": {},
   "outputs": [],
   "source": [
    "import warnings\n",
    "warnings.filterwarnings('ignore')"
   ]
  },
  {
   "cell_type": "code",
   "execution_count": 9,
   "id": "a32e6362-fb21-4d53-8542-aa88a0654195",
   "metadata": {},
   "outputs": [],
   "source": [
    "from langchain_google_genai import GoogleGenerativeAIEmbeddings\n",
    "\n",
    "gemini_embeddings = GoogleGenerativeAIEmbeddings(\n",
    "    model=\"models/embedding-001\",\n",
    "    google_api_key=GOOGLE_API_KEY\n",
    ")\n"
   ]
  },
  {
   "cell_type": "code",
   "execution_count": 10,
   "id": "1b869fad-2085-4782-8e39-3d5b22ced3be",
   "metadata": {},
   "outputs": [],
   "source": [
    "from langchain_google_genai import ChatGoogleGenerativeAI\n",
    "model = ChatGoogleGenerativeAI(model = \"gemini-1.5-flash\", convert_system_message_to_human=True)"
   ]
  },
  {
   "cell_type": "code",
   "execution_count": 11,
   "id": "cff8552e-7838-43e7-8b7c-e1e39414e00b",
   "metadata": {},
   "outputs": [
    {
     "name": "stdout",
     "output_type": "stream",
     "text": [
      "Hi there! How can I help you today?\n"
     ]
    }
   ],
   "source": [
    "print(model.invoke(\"hi\").content)"
   ]
  },
  {
   "cell_type": "code",
   "execution_count": 12,
   "id": "2c065e11-9571-45cf-8b91-918388215a27",
   "metadata": {},
   "outputs": [],
   "source": [
    "from langchain.chains import create_retrieval_chain"
   ]
  },
  {
   "cell_type": "code",
   "execution_count": 13,
   "id": "fcda9b96-854e-43d2-a744-90de81375854",
   "metadata": {},
   "outputs": [],
   "source": [
    "from langchain.chains.combine_documents import create_stuff_documents_chain"
   ]
  },
  {
   "cell_type": "code",
   "execution_count": 14,
   "id": "0b1ef0dc-8908-40ad-aef1-eba4f315fbbf",
   "metadata": {},
   "outputs": [],
   "source": [
    "from langchain_chroma import Chroma"
   ]
  },
  {
   "cell_type": "code",
   "execution_count": 15,
   "id": "492da945-1052-4b12-9d60-43568513554d",
   "metadata": {},
   "outputs": [],
   "source": [
    "from langchain_core.prompts import ChatPromptTemplate"
   ]
  },
  {
   "cell_type": "code",
   "execution_count": 16,
   "id": "3b9417df-97c2-408f-80d7-75172bb64d7b",
   "metadata": {},
   "outputs": [],
   "source": [
    "from langchain_text_splitters import RecursiveCharacterTextSplitter"
   ]
  },
  {
   "cell_type": "code",
   "execution_count": 17,
   "id": "8727b018-b58e-4f43-8421-739683d18a2c",
   "metadata": {},
   "outputs": [],
   "source": [
    "from langchain_core.prompts import MessagesPlaceholder"
   ]
  },
  {
   "cell_type": "code",
   "execution_count": 18,
   "id": "c1e40c9e-6591-48f8-b38a-0145daed7c00",
   "metadata": {},
   "outputs": [],
   "source": [
    "from PyPDF2 import PdfReader"
   ]
  },
  {
   "cell_type": "code",
   "execution_count": null,
   "id": "e6e3fdc7-797a-4535-8f65-66b2bfaef8f5",
   "metadata": {},
   "outputs": [],
   "source": [
    "from PyPDF2 import PdfReader\n",
    "from langchain.text_splitter import RecursiveCharacterTextSplitter\n",
    "from langchain.schema import Document\n",
    "import os\n",
    "\n",
    "# Load multiple PDFs\n",
    "def load_pdfs(folder):\n",
    "    texts = []\n",
    "    for file in os.listdir(folder):\n",
    "        if file.endswith(\".pdf\"):\n",
    "            reader = PdfReader(os.path.join(folder, file))\n",
    "            full_text = \"\"\n",
    "            for page in reader.pages:\n",
    "                if page_text := page.extract_text():\n",
    "                    full_text += page_text\n",
    "            texts.append(full_text)\n",
    "    return texts\n",
    "\n",
    "# Convert to Document objects\n",
    "def create_documents_from_texts(texts):\n",
    "    return [\n",
    "        Document(page_content=text, metadata={\"source\": f\"doc_{i}\"})\n",
    "        for i, text in enumerate(texts)\n",
    "    ]\n",
    "\n",
    "# Chunking\n",
    "folder_path = \"../pdf_docs\"\n",
    "texts = load_pdfs(folder_path)\n",
    "docs = create_documents_from_texts(texts)\n",
    "\n",
    "text_splitter = RecursiveCharacterTextSplitter(chunk_size=1000, chunk_overlap=200)\n",
    "splits = text_splitter.split_documents(docs)"
   ]
  },
  {
   "cell_type": "code",
   "execution_count": 54,
   "id": "1fa1e59e-919c-41d0-8339-1463d6b7860e",
   "metadata": {},
   "outputs": [
    {
     "data": {
      "text/plain": [
       "[Document(metadata={'source': 'doc_0'}, page_content='2025 Indian Premier League\\nDates 22 March – 3 June 2025\\nAdministrator(s)Board of Control for\\nCricket in India\\nCricket format Twenty20\\nTournament\\nformat(s)Group stage and playoffs\\nChampions Royal Challengers\\nBengaluru (1st title)\\nRunners-up Punjab Kings\\nParticipants 10\\nMatches 74\\nMost valuable\\nplayerSuryakumar Yadav\\n(Mumbai Indians)\\nMost runs Sai Sudharsan (Gujarat\\nTitans) (759)\\nMost wickets Prasidh Krishna (Gujarat\\nTitans) (25)\\nOfﬁcial website iplt20.com (http://iplt20.co\\nm)\\n2025 Indian Premier League\\nThe 2025 Indian Premier League , also known as IPL 18 and\\nbranded as TATA IPL 2025 , was the 18th edition of the Indian Premier\\nLeague . The tournament featured 10 teams  competing in 74 matches. It\\nbegan on 22 March and was held across 13 venues before being\\nsuspended on 9 May due to the 2025 India and Pakistan crisis . The\\nmatches resumed from 17 May across six venues, and the final  was\\nrescheduled from 25 May to 3 June.')]"
      ]
     },
     "execution_count": 54,
     "metadata": {},
     "output_type": "execute_result"
    }
   ],
   "source": [
    "splits[:1]"
   ]
  },
  {
   "cell_type": "code",
   "execution_count": 55,
   "id": "99c1b959-26e0-4a31-bedf-3631bd11808f",
   "metadata": {},
   "outputs": [],
   "source": [
    "vectorstore = Chroma.from_documents(\n",
    "    documents=splits,\n",
    "    embedding=gemini_embeddings,\n",
    ")"
   ]
  },
  {
   "cell_type": "code",
   "execution_count": 56,
   "id": "4337807b-03fc-48a2-ada0-1ac72bbd5811",
   "metadata": {},
   "outputs": [],
   "source": [
    "retriever = vectorstore.as_retriever()"
   ]
  },
  {
   "cell_type": "code",
   "execution_count": 57,
   "id": "131cce9b-1db8-4595-b9bf-6c297e452580",
   "metadata": {},
   "outputs": [
    {
     "data": {
      "text/plain": [
       "VectorStoreRetriever(tags=['Chroma', 'GoogleGenerativeAIEmbeddings'], vectorstore=<langchain_chroma.vectorstores.Chroma object at 0x10f0e3700>, search_kwargs={})"
      ]
     },
     "execution_count": 57,
     "metadata": {},
     "output_type": "execute_result"
    }
   ],
   "source": [
    "retriever"
   ]
  },
  {
   "cell_type": "code",
   "execution_count": 58,
   "id": "1b1b9d33-d6a2-4fbc-8e94-bc81bf10e208",
   "metadata": {},
   "outputs": [],
   "source": [
    "system_prompt = (\n",
    "    \"You are an assistant for question answering tasks. \"\n",
    "    \"Use the following pieces of retrieved context to answer the question \"\n",
    "    \"If you don't know the answer, say that you don't know.\"\n",
    "    \"Use three sentences maximum and keep the answer concise.\"\n",
    "    \"\\n\\n\"\n",
    "    \"{context}\"\n",
    ")"
   ]
  },
  {
   "cell_type": "code",
   "execution_count": 59,
   "id": "52993b9b-aa72-46c8-a531-e19e3764bcc0",
   "metadata": {},
   "outputs": [],
   "source": [
    "chat_prompt = ChatPromptTemplate.from_messages(\n",
    "    [\n",
    "        (\"system\", system_prompt),\n",
    "        (\"human\", \"{input}\"),\n",
    "    ]\n",
    ")"
   ]
  },
  {
   "cell_type": "code",
   "execution_count": 60,
   "id": "ca875fff-5efc-47eb-9043-c706efdcc193",
   "metadata": {},
   "outputs": [],
   "source": [
    "question_answering_chain = create_stuff_documents_chain(model, chat_prompt)"
   ]
  },
  {
   "cell_type": "code",
   "execution_count": 61,
   "id": "e2f43538-2564-4cae-92ee-449398db11b3",
   "metadata": {},
   "outputs": [],
   "source": [
    "rag_chain = create_retrieval_chain(retriever, question_answering_chain)"
   ]
  },
  {
   "cell_type": "code",
   "execution_count": 64,
   "id": "6482b070-6740-4bb3-beee-7c7728bcf307",
   "metadata": {},
   "outputs": [
    {
     "data": {
      "text/plain": [
       "'The provided text mentions Priyansh Arya scoring 70 runs in one match and Ashutosh Sharma scoring 66* runs in another.  There is no information on who scored the most runs overall in IPL 2025.'"
      ]
     },
     "execution_count": 64,
     "metadata": {},
     "output_type": "execute_result"
    }
   ],
   "source": [
    "rag_chain.invoke({\"input\": \"who scored leading runs in whole ipl 2025?\"})[\"answer\"]"
   ]
  },
  {
   "cell_type": "code",
   "execution_count": 46,
   "id": "b1d520ea-76dc-49b7-9e8b-2544bb2756c2",
   "metadata": {},
   "outputs": [
    {
     "data": {
      "text/plain": [
       "\"The Big Bang theory is a cosmological model for the universe's evolution.  It's supported by Big Bang nucleosynthesis and the discovery of the cosmic microwave background radiation.  The theory rests on Einstein's general relativity and the cosmological principle.\""
      ]
     },
     "execution_count": 46,
     "metadata": {},
     "output_type": "execute_result"
    }
   ],
   "source": [
    "rag_chain.invoke({\"input\": \"what is big bang theory?\"})[\"answer\"]"
   ]
  },
  {
   "cell_type": "code",
   "execution_count": 47,
   "id": "323212f3-daa6-44f2-a2c9-71d3421dacd1",
   "metadata": {},
   "outputs": [
    {
     "name": "stdout",
     "output_type": "stream",
     "text": [
      "Here are four general knowledge questions with their answers, based on the provided text:\n",
      "\n",
      "1. **Question:** What is the name of the instrument used to measure the distance traveled in vehicles?  **Answer:** Odometer.\n",
      "2. **Question:** Who wrote the book \"Dreams from My Father: A Story of Race and Inheritance\"? **Answer:** Former US President Barack Obama.\n",
      "3. **Question:** When was penicillin discovered? **Answer:** In the year 1928.\n",
      "4. **Question:** Which city is known as the \"Windy City\"? **Answer:** Chicago.\n"
     ]
    }
   ],
   "source": [
    "print(rag_chain.invoke({\"input\": \"provide 4 questions of general knowledge with their answers\"})[\"answer\"])"
   ]
  },
  {
   "cell_type": "code",
   "execution_count": null,
   "id": "4e50faa3-f8aa-4a05-8f74-8aeba8db04ef",
   "metadata": {},
   "outputs": [],
   "source": []
  }
 ],
 "metadata": {
  "kernelspec": {
   "display_name": "mcqgen",
   "language": "python",
   "name": "python3"
  },
  "language_info": {
   "codemirror_mode": {
    "name": "ipython",
    "version": 3
   },
   "file_extension": ".py",
   "mimetype": "text/x-python",
   "name": "python",
   "nbconvert_exporter": "python",
   "pygments_lexer": "ipython3",
   "version": "3.10.18"
  }
 },
 "nbformat": 4,
 "nbformat_minor": 5
}
